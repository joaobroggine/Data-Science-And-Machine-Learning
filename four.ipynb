{
  "nbformat": 4,
  "nbformat_minor": 0,
  "metadata": {
    "colab": {
      "provenance": [],
      "authorship_tag": "ABX9TyOi51uM4JV61FJap+I5bOl1"
    },
    "kernelspec": {
      "name": "python3",
      "display_name": "Python 3"
    },
    "language_info": {
      "name": "python"
    }
  },
  "cells": [
    {
      "cell_type": "markdown",
      "source": [
        "36. Importação e visualização inicial\n",
        "\n",
        "    Ação: Use o widget \"CSV File Import\" para carregar o dataset Individual Household Electric Power Consumption.\n",
        "    Conecte ao widget \"Data Table\" para visualizar os dados.\n",
        "\n",
        "    Pergunta: Quantas variáveis e registros aparecem?\n",
        "\n",
        "    Resposta: O dataset completo geralmente possui 9 variáveis (colunas) e cerca de 2.075.259 registros (linhas).\n",
        "    \n",
        "    Variáveis comuns: Date, Time, Global_active_power, Global_reactive_power, Voltage, Global_intensity, Sub_metering_1, Sub_metering_2, Sub_metering_3.\n",
        "\n",
        "    O número exato de registros pode variar conforme o arquivo carregado e remoção de valores faltantes.\n",
        "---\n",
        "37. Amostragem de dados (1%)\n",
        "\n",
        "    Ação: Use o widget \"Sample Data\" para selecionar uma amostra de 1% dos registros.\n",
        "\n",
        "    Pergunta: A distribuição de Global_active_power na amostra é semelhante à base completa?\n",
        "\n",
        "    Resposta: Sim, a distribuição da variável Global_active_power na amostra de 1% deve ser muito semelhante à da base completa, especialmente se a amostragem for aleatória. Pequenas diferenças podem ocorrer devido ao tamanho reduzido, mas o formato geral (assimetria, concentração dos valores) é preservado.\n",
        "---\n",
        "38. Distribuição do consumo\n",
        "\n",
        "    Ação: Conecte ao widget \"Distribution\" e visualize Global_active_power.\n",
        "\n",
        "    Pergunta: O consumo é concentrado em valores baixos ou há muitos registros de alto consumo?\n",
        "\n",
        "    Resposta: O consumo (Global_active_power) é concentrado em valores baixos. A maioria das medições representa baixo consumo, com poucos registros apresentando valores elevados. Isso pode ser visto em um histograma assimétrico à direita.\n",
        "---\n",
        "39. Relação entre variáveis elétricas\n",
        "\n",
        "    Ação: Use o widget \"Scatter Plot\" para analisar Voltage (eixo X) vs Global_intensity (eixo Y).\n",
        "\n",
        "    Pergunta: Existe correlação visível?\n",
        "\n",
        "    Resposta: Existe uma correlação inversa moderada: em geral, quando a Global_intensity aumenta, a Voltage tende a diminuir levemente. Porém, a relação não é perfeitamente linear e pode haver dispersão nos dados.\n",
        "---\n",
        "40. Clustering com K-Means\n",
        "\n",
        "    Ação: Aplique o widget \"k-Means\" com 3 clusters, usando como atributos Sub_metering_1, Sub_metering_2, Sub_metering_3.\n",
        "\n",
        "    Visualização: Use o \"Scatter Plot\" para visualizar os grupos.\n",
        "\n",
        "    Pergunta: Cada cluster representa um padrão distinto de consumo doméstico?\n",
        "\n",
        "    Resposta: Sim, cada cluster tende a representar um padrão distinto de consumo:\n",
        "\n",
        "    Um cluster pode agrupar registros com baixo consumo em todas as submedidas.\n",
        "    Outro pode destacar registros com alto consumo em uma ou mais submedidas específicas (ex: cozinha, lavanderia).\n",
        "    O terceiro pode mostrar um padrão intermediário ou misto.\n",
        "    A separação dos clusters reflete diferentes perfis de uso de energia dos eletrodomésticos monitorados.\n"
      ],
      "metadata": {
        "id": "RQ54hUQVTr8v"
      }
    }
  ]
}